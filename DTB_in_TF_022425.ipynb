{
  "nbformat": 4,
  "nbformat_minor": 0,
  "metadata": {
    "colab": {
      "provenance": []
    },
    "kernelspec": {
      "name": "python3",
      "display_name": "Python 3"
    },
    "language_info": {
      "name": "python"
    }
  },
  "cells": [
    {
      "cell_type": "code",
      "execution_count": null,
      "metadata": {
        "id": "L4sAnAFDwVy8"
      },
      "outputs": [],
      "source": [
        "import tensorflow as tf\n",
        "\n",
        "# Define DTB parameters as tensors\n",
        "num_neurons = 100  # Example neuron count\n",
        "num_synapses = 100  # Example synapse count\n",
        "\n",
        "dt = 0.01  # Time step\n",
        "\n",
        "# Neuronal states\n",
        "Vi = tf.Variable(tf.random.uniform([num_neurons], minval=-70.0, maxval=-50.0), dtype=tf.float32)  # Membrane potentials\n",
        "ji_u = tf.Variable(tf.zeros([num_neurons, num_synapses]), dtype=tf.float32)  # Open channel percentages\n",
        "\n",
        "# Constants\n",
        "Ci = tf.constant(1.0, dtype=tf.float32)  # Neuronal capacitance\n",
        "gL_i = tf.constant(0.1, dtype=tf.float32)  # Leak conductance\n",
        "EL = tf.constant(-65.0, dtype=tf.float32)  # Equilibrium potential\n",
        "Eu = tf.constant([-70.0, 0.0, -80.0, -90.0], dtype=tf.float32)  # Reversal potentials for AMPA, NMDA, GABAa, GABAb\n",
        "gi_u = tf.Variable(tf.random.uniform([num_neurons, num_synapses]), dtype=tf.float32)  # Synaptic conductance\n",
        "Iext = tf.Variable(tf.zeros([num_neurons]), dtype=tf.float32)  # External current\n",
        "Tu = tf.constant(5.0, dtype=tf.float32)  # Decay constant\n",
        "wu = tf.Variable(tf.random.uniform([num_synapses]), dtype=tf.float32)  # Synaptic weight\n",
        "\n",
        "# Compute Isum (sum of synaptic and external currents)\n",
        "Vi_expanded = tf.expand_dims(Vi, axis=1)  # Expand for broadcasting\n",
        "drive_force = Vi_expanded - Eu  # Driving force\n",
        "synaptic_currents = tf.reduce_sum(ji_u * drive_force * gi_u, axis=1)  # Compute sum of all synaptic currents\n",
        "Isum = synaptic_currents + Iext\n",
        "\n",
        "# Compute membrane potential update\n",
        "dVi_dt = (-gL_i * (Vi - EL) + Isum) / Ci\n",
        "Vi_new = Vi + dt * dVi_dt\n",
        "\n",
        "# Compute neurotransmitter channel dynamics\n",
        "dji_u_dt = (-1.0 / Tu) * ji_u + wu * tf.reduce_sum(tf.exp(-dt))  # Placeholder for spike influence\n",
        "ji_u_new = ji_u + dt * dji_u_dt\n",
        "\n",
        "# Tensor update operation\n",
        "update_op = [Vi.assign(Vi_new), ji_u.assign(ji_u_new)]\n",
        "\n",
        "# Function to run DTB step\n",
        "def dtb_step():\n",
        "    tf.function(lambda: tf.group(*update_op))()\n",
        "\n",
        "# Example execution for 10 steps\n",
        "for _ in range(10):\n",
        "    dtb_step()\n",
        "\n",
        "print(\"DTB step execution complete.\")\n"
      ]
    }
  ]
}